{
 "cells": [
  {
   "cell_type": "markdown",
   "id": "9a57c4c6",
   "metadata": {},
   "source": [
    "# Eat Safe, Love"
   ]
  },
  {
   "cell_type": "markdown",
   "id": "064ef857",
   "metadata": {},
   "source": [
    "## Part 1: Database and Jupyter Notebook Set Up"
   ]
  },
  {
   "cell_type": "markdown",
   "id": "664e3c1f",
   "metadata": {},
   "source": [
    "Import the data provided in the `establishments.json` file from your Terminal. Name the database `uk_food` and the collection `establishments`.\n",
    "\n",
    "Within this markdown cell, copy the line of text you used to import the data from your Terminal. This way, future analysts will be able to repeat your process.\n",
    "\n",
    "e.g.: Import the dataset with `YOUR IMPORT TEXT HERE`"
   ]
  },
  {
   "cell_type": "markdown",
   "id": "a17bd427",
   "metadata": {},
   "source": [
    "!mongoimport --type json -d uk_foods -c establishments--drop --jsonArray .\\Resources\\establishments.json"
   ]
  },
  {
   "cell_type": "code",
   "execution_count": 1,
   "id": "d454f308",
   "metadata": {},
   "outputs": [
    {
     "name": "stderr",
     "output_type": "stream",
     "text": [
      "2024-01-31T10:53:44.895-0500\tFailed: open ..\\Resources\\establishments.json: The system cannot find the path specified.\n",
      "2024-01-31T10:53:44.896-0500\t0 document(s) imported successfully. 0 document(s) failed to import.\n"
     ]
    }
   ],
   "source": [
    "!mongoimport --type json -d uk_foods -c establishments --jsonArray --drop ..\\Resources\\establishments.json"
   ]
  },
  {
   "cell_type": "code",
   "execution_count": 2,
   "id": "3ecdd008",
   "metadata": {},
   "outputs": [],
   "source": [
    "# Import dependencies\n",
    "from pymongo import MongoClient\n",
    "from pprint import pprint"
   ]
  },
  {
   "cell_type": "code",
   "execution_count": 3,
   "id": "59390c4a",
   "metadata": {},
   "outputs": [],
   "source": [
    "# Create an instance of MongoClient\n",
    "mongo = MongoClient(port=27017)"
   ]
  },
  {
   "cell_type": "code",
   "execution_count": 4,
   "id": "7f9ececa",
   "metadata": {},
   "outputs": [
    {
     "data": {
      "text/plain": [
       "['admin',\n",
       " 'autosaurus',\n",
       " 'classDB',\n",
       " 'config',\n",
       " 'fruits_db',\n",
       " 'local',\n",
       " 'met',\n",
       " 'petsitly_marketing',\n",
       " 'travel_db',\n",
       " 'uk_foods']"
      ]
     },
     "execution_count": 4,
     "metadata": {},
     "output_type": "execute_result"
    }
   ],
   "source": [
    "# confirm that our new database was created\n",
    "mongo.list_database_names()"
   ]
  },
  {
   "cell_type": "code",
   "execution_count": 5,
   "id": "71e373c1",
   "metadata": {},
   "outputs": [],
   "source": [
    "# assign the uk_food database to a variable name\n",
    "db = mongo['uk_foods']"
   ]
  },
  {
   "cell_type": "code",
   "execution_count": 6,
   "id": "18ab463c",
   "metadata": {},
   "outputs": [
    {
     "name": "stdout",
     "output_type": "stream",
     "text": [
      "['establishments--drop', 'establishments']\n"
     ]
    }
   ],
   "source": [
    "# review the collections in our new database\n",
    "print(db.list_collection_names())"
   ]
  },
  {
   "cell_type": "code",
   "execution_count": 7,
   "id": "6a0d92df",
   "metadata": {},
   "outputs": [
    {
     "name": "stdout",
     "output_type": "stream",
     "text": [
      "{'AddressLine1': 'East Cliff Pavilion',\n",
      " 'AddressLine2': 'Wear Bay Road',\n",
      " 'AddressLine3': 'Folkestone',\n",
      " 'AddressLine4': 'Kent',\n",
      " 'BusinessName': 'The Pavilion',\n",
      " 'BusinessType': 'Restaurant/Cafe/Canteen',\n",
      " 'BusinessTypeID': 1,\n",
      " 'ChangesByServerID': 0,\n",
      " 'Distance': 4591.765489457773,\n",
      " 'FHRSID': 1043695,\n",
      " 'LocalAuthorityBusinessID': 'PI/000073616',\n",
      " 'LocalAuthorityCode': '188',\n",
      " 'LocalAuthorityEmailAddress': 'foodteam@folkestone-hythe.gov.uk',\n",
      " 'LocalAuthorityName': 'Folkestone and Hythe',\n",
      " 'LocalAuthorityWebSite': 'http://www.folkestone-hythe.gov.uk',\n",
      " 'NewRatingPending': False,\n",
      " 'Phone': '',\n",
      " 'PostCode': 'CT19 6BL',\n",
      " 'RatingDate': '2018-04-04T00:00:00',\n",
      " 'RatingKey': 'fhrs_5_en-gb',\n",
      " 'RatingValue': 5,\n",
      " 'RightToReply': '',\n",
      " 'SchemeType': 'FHRS',\n",
      " '_id': ObjectId('65b5cdabcb0b9d51ec18daa6'),\n",
      " 'geocode': {'latitude': None, 'longitude': None},\n",
      " 'links': [{'href': 'https://api.ratings.food.gov.uk/establishments/1043695',\n",
      "            'rel': 'self'}],\n",
      " 'meta': {'dataSource': None,\n",
      "          'extractDate': '0001-01-01T00:00:00',\n",
      "          'itemCount': 0,\n",
      "          'pageNumber': 0,\n",
      "          'pageSize': 0,\n",
      "          'returncode': None,\n",
      "          'totalCount': 0,\n",
      "          'totalPages': 0},\n",
      " 'scores': {'ConfidenceInManagement': 5, 'Hygiene': 5, 'Structural': 5}}\n"
     ]
    }
   ],
   "source": [
    "# review a document in the establishments collection\n",
    "pprint(db['establishments'].find_one())"
   ]
  },
  {
   "cell_type": "code",
   "execution_count": 8,
   "id": "11c9f11b",
   "metadata": {},
   "outputs": [],
   "source": [
    "# assign the collection to a variable\n",
    "establishments = db.establishments"
   ]
  },
  {
   "cell_type": "code",
   "execution_count": 9,
   "id": "89b73079",
   "metadata": {},
   "outputs": [
    {
     "data": {
      "text/plain": [
       "{'_id': ObjectId('65b5cdabcb0b9d51ec18daa6'),\n",
       " 'FHRSID': 1043695,\n",
       " 'ChangesByServerID': 0,\n",
       " 'LocalAuthorityBusinessID': 'PI/000073616',\n",
       " 'BusinessName': 'The Pavilion',\n",
       " 'BusinessType': 'Restaurant/Cafe/Canteen',\n",
       " 'BusinessTypeID': 1,\n",
       " 'AddressLine1': 'East Cliff Pavilion',\n",
       " 'AddressLine2': 'Wear Bay Road',\n",
       " 'AddressLine3': 'Folkestone',\n",
       " 'AddressLine4': 'Kent',\n",
       " 'PostCode': 'CT19 6BL',\n",
       " 'Phone': '',\n",
       " 'RatingValue': 5,\n",
       " 'RatingKey': 'fhrs_5_en-gb',\n",
       " 'RatingDate': '2018-04-04T00:00:00',\n",
       " 'LocalAuthorityCode': '188',\n",
       " 'LocalAuthorityName': 'Folkestone and Hythe',\n",
       " 'LocalAuthorityWebSite': 'http://www.folkestone-hythe.gov.uk',\n",
       " 'LocalAuthorityEmailAddress': 'foodteam@folkestone-hythe.gov.uk',\n",
       " 'scores': {'Hygiene': 5, 'Structural': 5, 'ConfidenceInManagement': 5},\n",
       " 'SchemeType': 'FHRS',\n",
       " 'geocode': {'longitude': None, 'latitude': None},\n",
       " 'RightToReply': '',\n",
       " 'Distance': 4591.765489457773,\n",
       " 'NewRatingPending': False,\n",
       " 'meta': {'dataSource': None,\n",
       "  'extractDate': '0001-01-01T00:00:00',\n",
       "  'itemCount': 0,\n",
       "  'returncode': None,\n",
       "  'totalCount': 0,\n",
       "  'totalPages': 0,\n",
       "  'pageSize': 0,\n",
       "  'pageNumber': 0},\n",
       " 'links': [{'rel': 'self',\n",
       "   'href': 'https://api.ratings.food.gov.uk/establishments/1043695'}]}"
      ]
     },
     "execution_count": 9,
     "metadata": {},
     "output_type": "execute_result"
    }
   ],
   "source": [
    "establishments.find_one()"
   ]
  },
  {
   "cell_type": "markdown",
   "id": "d5671434",
   "metadata": {},
   "source": [
    "## Part 2: Update the Database"
   ]
  },
  {
   "cell_type": "markdown",
   "id": "314bd884",
   "metadata": {},
   "source": [
    "1. An exciting new halal restaurant just opened in Greenwich, but hasn't been rated yet. The magazine has asked you to include it in your analysis. Add the following restaurant \"Penang Flavours\" to the database."
   ]
  },
  {
   "cell_type": "code",
   "execution_count": 10,
   "id": "a6e5cece",
   "metadata": {},
   "outputs": [
    {
     "data": {
      "text/plain": [
       "{'_id': ObjectId('65b5cdabcb0b9d51ec18daa6'),\n",
       " 'FHRSID': 1043695,\n",
       " 'ChangesByServerID': 0,\n",
       " 'LocalAuthorityBusinessID': 'PI/000073616',\n",
       " 'BusinessName': 'The Pavilion',\n",
       " 'BusinessType': 'Restaurant/Cafe/Canteen',\n",
       " 'BusinessTypeID': 1,\n",
       " 'AddressLine1': 'East Cliff Pavilion',\n",
       " 'AddressLine2': 'Wear Bay Road',\n",
       " 'AddressLine3': 'Folkestone',\n",
       " 'AddressLine4': 'Kent',\n",
       " 'PostCode': 'CT19 6BL',\n",
       " 'Phone': '',\n",
       " 'RatingValue': 5,\n",
       " 'RatingKey': 'fhrs_5_en-gb',\n",
       " 'RatingDate': '2018-04-04T00:00:00',\n",
       " 'LocalAuthorityCode': '188',\n",
       " 'LocalAuthorityName': 'Folkestone and Hythe',\n",
       " 'LocalAuthorityWebSite': 'http://www.folkestone-hythe.gov.uk',\n",
       " 'LocalAuthorityEmailAddress': 'foodteam@folkestone-hythe.gov.uk',\n",
       " 'scores': {'Hygiene': 5, 'Structural': 5, 'ConfidenceInManagement': 5},\n",
       " 'SchemeType': 'FHRS',\n",
       " 'geocode': {'longitude': None, 'latitude': None},\n",
       " 'RightToReply': '',\n",
       " 'Distance': 4591.765489457773,\n",
       " 'NewRatingPending': False,\n",
       " 'meta': {'dataSource': None,\n",
       "  'extractDate': '0001-01-01T00:00:00',\n",
       "  'itemCount': 0,\n",
       "  'returncode': None,\n",
       "  'totalCount': 0,\n",
       "  'totalPages': 0,\n",
       "  'pageSize': 0,\n",
       "  'pageNumber': 0},\n",
       " 'links': [{'rel': 'self',\n",
       "   'href': 'https://api.ratings.food.gov.uk/establishments/1043695'}]}"
      ]
     },
     "execution_count": 10,
     "metadata": {},
     "output_type": "execute_result"
    }
   ],
   "source": [
    "# Insert the new restaurant into the collection\n",
    "\n",
    "new_restaurant_insert =  {'BusinessName': 'Penang Flavours', 'BusinessType': 'halal restaurant',\n",
    "                          'NewRatingPending': 'False','LocalAuthorityName': 'Greenwich'}\n",
    "\n",
    "establishments.insert_one(new_restaurant_insert)\n",
    "\n",
    "establishments.find_one()\n",
    "\n"
   ]
  },
  {
   "cell_type": "code",
   "execution_count": 11,
   "id": "63bb10f9",
   "metadata": {},
   "outputs": [
    {
     "name": "stdout",
     "output_type": "stream",
     "text": [
      "{'_id': ObjectId('65b6511eb968d4b023c80fe7'), 'BusinessName': 'Penang Flavours', 'BusinessType': 'Restaurant/Cafe/Canteen', 'NewRatingPending': 'False'}\n",
      "{'_id': ObjectId('65b66597b968d4b023c80fe9'), 'BusinessName': 'Penang Flavours', 'BusinessType': 'halal restaurant', 'NewRatingPending': 'False'}\n",
      "{'_id': ObjectId('65b675ea4fe7e422a0c6fbe7'), 'BusinessName': 'Penang Flavours', 'BusinessType': 'halal restaurant', 'NewRatingPending': 'False'}\n",
      "{'_id': ObjectId('65b6797e4fe7e422a0c6fbe9'), 'BusinessName': 'Penang Flavours', 'BusinessType': 'halal restaurant', 'NewRatingPending': 'False'}\n",
      "{'_id': ObjectId('65b700866614d094a637ca08'), 'BusinessName': 'Penang Flavours', 'BusinessType': 'halal restaurant', 'NewRatingPending': 'False'}\n",
      "{'_id': ObjectId('65b7bb8a0a59d3aa7f72c741'), 'BusinessName': 'Penang Flavours', 'BusinessType': 'halal restaurant', 'NewRatingPending': 'False'}\n",
      "{'_id': ObjectId('65b7db24fc6627737452c963'), 'BusinessName': 'Penang Flavours', 'BusinessType': 'halal restaurant', 'NewRatingPending': 'False'}\n",
      "{'_id': ObjectId('65b817c722f1de4be66b6c54'), 'BusinessName': 'Penang Flavours', 'BusinessType': 'halal restaurant', 'NewRatingPending': 'False'}\n",
      "{'_id': ObjectId('65b8331822f1de4be66b6c56'), 'BusinessName': 'Penang Flavours', 'BusinessType': 'halal restaurant', 'NewRatingPending': 'False'}\n",
      "{'_id': ObjectId('65b9210441d1c2d4ee7fbd03'), 'BusinessName': 'Penang Flavours', 'BusinessType': 'halal restaurant', 'NewRatingPending': 'False'}\n",
      "{'_id': ObjectId('65b966ee432c8f44259d8aaf'), 'BusinessName': 'Penang Flavours', 'BusinessType': 'halal restaurant', 'NewRatingPending': 'False'}\n",
      "{'_id': ObjectId('65b9c7e95c3bd54d81495e2d'), 'BusinessName': 'Penang Flavours', 'BusinessType': 'halal restaurant', 'NewRatingPending': 'False', 'LocalAuthorityName': 'Greenwich'}\n",
      "{'_id': ObjectId('65b9c8105c3bd54d81495e2f'), 'BusinessName': 'Penang Flavours', 'BusinessType': 'halal restaurant', 'NewRatingPending': 'False', 'LocalAuthorityName': 'Greenwich'}\n",
      "{'_id': ObjectId('65ba638ecb805ebf72bc3f9a'), 'BusinessName': 'Penang Flavours', 'BusinessType': 'halal restaurant', 'NewRatingPending': 'False', 'LocalAuthorityName': 'Greenwich'}\n",
      "{'_id': ObjectId('65ba6a7e9af8deff48c86cb4'), 'BusinessName': 'Penang Flavours', 'BusinessType': 'halal restaurant', 'NewRatingPending': 'False', 'LocalAuthorityName': 'Greenwich'}\n",
      "{'_id': ObjectId('65ba6d0994d2cc1289156e4b'), 'BusinessName': 'Penang Flavours', 'BusinessType': 'halal restaurant', 'NewRatingPending': 'False', 'LocalAuthorityName': 'Greenwich'}\n"
     ]
    }
   ],
   "source": [
    "# Check that the new restaurant was inserted\n",
    "query = {'BusinessName': 'Penang Flavours'}\n",
    "fields ={'BusinessName','BusinessType','NewRatingPending','LocalAuthorityName'}\n",
    "results = establishments.find(query,fields)\n",
    "for result in results:\n",
    "    print(result)"
   ]
  },
  {
   "cell_type": "markdown",
   "id": "0ef4395a",
   "metadata": {},
   "source": [
    "2. Find the BusinessTypeID for \"Restaurant/Cafe/Canteen\" and return only the `BusinessTypeID` and `BusinessType` fields."
   ]
  },
  {
   "cell_type": "code",
   "execution_count": 12,
   "id": "93c63829",
   "metadata": {},
   "outputs": [
    {
     "name": "stdout",
     "output_type": "stream",
     "text": [
      "{'_id': ObjectId('65b5cdabcb0b9d51ec18daa6'), 'BusinessType': 'Restaurant/Cafe/Canteen'}\n",
      "{'_id': ObjectId('65b5cdabcb0b9d51ec18daac'), 'BusinessType': 'Restaurant/Cafe/Canteen'}\n",
      "{'_id': ObjectId('65b5cdabcb0b9d51ec18dab0'), 'BusinessType': 'Restaurant/Cafe/Canteen'}\n",
      "{'_id': ObjectId('65b5cdabcb0b9d51ec18dab1'), 'BusinessType': 'Restaurant/Cafe/Canteen'}\n",
      "{'_id': ObjectId('65b5cdabcb0b9d51ec18dab3'), 'BusinessType': 'Restaurant/Cafe/Canteen'}\n"
     ]
    }
   ],
   "source": [
    "# Find the BusinessTypeID for \"Restaurant/Cafe/Canteen\" and return only the BusinessTypeID and BusinessType fields\n",
    "query = {'BusinessType': 'Restaurant/Cafe/Canteen'}\n",
    "fields = {\"BusinessTypeID \": 1, \"BusinessType\": 1}\n",
    "limit = 5\n",
    "results = list(establishments.find(query, fields).limit(limit))\n",
    "for result in results:\n",
    "    print(result)"
   ]
  },
  {
   "cell_type": "markdown",
   "id": "4e570caf",
   "metadata": {},
   "source": [
    "3. Update the new restaurant with the `BusinessTypeID` you found."
   ]
  },
  {
   "cell_type": "code",
   "execution_count": 13,
   "id": "7f599f3d",
   "metadata": {},
   "outputs": [
    {
     "data": {
      "text/plain": [
       "<pymongo.results.UpdateResult at 0x20af1afbd80>"
      ]
     },
     "execution_count": 13,
     "metadata": {},
     "output_type": "execute_result"
    }
   ],
   "source": [
    "# Update the new restaurant with the correct BusinessTypeID\n",
    "db.establishments.update_one(\n",
    "    {'BusinessName': 'Penang Flavours'},\n",
    "    {'$set':\n",
    "        {'BusinessType': 'Restaurant/Cafe/Canteen'}\n",
    "     }\n",
    ")\n"
   ]
  },
  {
   "cell_type": "code",
   "execution_count": 14,
   "id": "a6ad16f7",
   "metadata": {},
   "outputs": [
    {
     "name": "stdout",
     "output_type": "stream",
     "text": [
      "{'_id': ObjectId('65b6511eb968d4b023c80fe7'), 'BusinessName': 'Penang Flavours', 'BusinessType': 'Restaurant/Cafe/Canteen', 'NewRatingPending': 'False', 'AddressLine4': 'Greenwich', 'geocode': {'longitude': None, 'latitude': None}, 'RatingValue': None}\n",
      "{'_id': ObjectId('65b66597b968d4b023c80fe9'), 'BusinessName': 'Penang Flavours', 'BusinessType': 'halal restaurant', 'NewRatingPending': 'False', 'AddressLine4': 'Greenwich', 'geocode': {'longitude': None, 'latitude': None}, 'RatingValue': None}\n",
      "{'_id': ObjectId('65b675ea4fe7e422a0c6fbe7'), 'BusinessName': 'Penang Flavours', 'BusinessType': 'halal restaurant', 'NewRatingPending': 'False', 'AddressLine4': 'Greenwich', 'geocode': {'longitude': None, 'latitude': None}, 'RatingValue': None}\n",
      "{'_id': ObjectId('65b6797e4fe7e422a0c6fbe9'), 'BusinessName': 'Penang Flavours', 'BusinessType': 'halal restaurant', 'NewRatingPending': 'False', 'AddressLine4': 'Greenwich', 'geocode': {'longitude': None, 'latitude': None}, 'RatingValue': None}\n",
      "{'_id': ObjectId('65b700866614d094a637ca08'), 'BusinessName': 'Penang Flavours', 'BusinessType': 'halal restaurant', 'NewRatingPending': 'False', 'AddressLine4': 'Greenwich', 'geocode': {'longitude': None, 'latitude': None}, 'RatingValue': None}\n",
      "{'_id': ObjectId('65b7bb8a0a59d3aa7f72c741'), 'BusinessName': 'Penang Flavours', 'BusinessType': 'halal restaurant', 'NewRatingPending': 'False', 'AddressLine4': 'Greenwich', 'geocode': {'longitude': None, 'latitude': None}, 'RatingValue': None}\n",
      "{'_id': ObjectId('65b7db24fc6627737452c963'), 'BusinessName': 'Penang Flavours', 'BusinessType': 'halal restaurant', 'NewRatingPending': 'False', 'AddressLine4': 'Greenwich', 'geocode': {'longitude': None, 'latitude': None}, 'RatingValue': None}\n",
      "{'_id': ObjectId('65b817c722f1de4be66b6c54'), 'BusinessName': 'Penang Flavours', 'BusinessType': 'halal restaurant', 'NewRatingPending': 'False', 'AddressLine4': 'Greenwich', 'geocode': {'longitude': None, 'latitude': None}, 'RatingValue': None}\n",
      "{'_id': ObjectId('65b8331822f1de4be66b6c56'), 'BusinessName': 'Penang Flavours', 'BusinessType': 'halal restaurant', 'NewRatingPending': 'False', 'AddressLine4': 'Greenwich', 'geocode': {'longitude': None, 'latitude': None}, 'RatingValue': None}\n",
      "{'_id': ObjectId('65b9210441d1c2d4ee7fbd03'), 'BusinessName': 'Penang Flavours', 'BusinessType': 'halal restaurant', 'NewRatingPending': 'False', 'AddressLine4': 'Greenwich', 'geocode': {'longitude': None, 'latitude': None}, 'RatingValue': None}\n",
      "{'_id': ObjectId('65b966ee432c8f44259d8aaf'), 'BusinessName': 'Penang Flavours', 'BusinessType': 'halal restaurant', 'NewRatingPending': 'False', 'AddressLine4': 'Greenwich', 'geocode': {'longitude': None, 'latitude': None}, 'RatingValue': None}\n",
      "{'_id': ObjectId('65b9c7e95c3bd54d81495e2d'), 'BusinessName': 'Penang Flavours', 'BusinessType': 'halal restaurant', 'NewRatingPending': 'False', 'LocalAuthorityName': 'Greenwich', 'geocode': {'longitude': None, 'latitude': None}, 'RatingValue': None}\n",
      "{'_id': ObjectId('65b9c8105c3bd54d81495e2f'), 'BusinessName': 'Penang Flavours', 'BusinessType': 'halal restaurant', 'NewRatingPending': 'False', 'LocalAuthorityName': 'Greenwich', 'geocode': {'longitude': None, 'latitude': None}, 'RatingValue': None}\n",
      "{'_id': ObjectId('65ba638ecb805ebf72bc3f9a'), 'BusinessName': 'Penang Flavours', 'BusinessType': 'halal restaurant', 'NewRatingPending': 'False', 'LocalAuthorityName': 'Greenwich', 'geocode': {'longitude': None, 'latitude': None}, 'RatingValue': None}\n",
      "{'_id': ObjectId('65ba6a7e9af8deff48c86cb4'), 'BusinessName': 'Penang Flavours', 'BusinessType': 'halal restaurant', 'NewRatingPending': 'False', 'LocalAuthorityName': 'Greenwich', 'geocode': {'longitude': None, 'latitude': None}, 'RatingValue': None}\n",
      "{'_id': ObjectId('65ba6d0994d2cc1289156e4b'), 'BusinessName': 'Penang Flavours', 'BusinessType': 'halal restaurant', 'NewRatingPending': 'False', 'LocalAuthorityName': 'Greenwich'}\n"
     ]
    }
   ],
   "source": [
    "# Confirm that the new restaurant was updated\n",
    "query = {'BusinessName': 'Penang Flavours'}\n",
    "results = establishments.find(query)\n",
    "for result in results:\n",
    "    print(result)"
   ]
  },
  {
   "cell_type": "markdown",
   "id": "67281254",
   "metadata": {},
   "source": [
    "4. The magazine is not interested in any establishments in Dover, so check how many documents contain the Dover Local Authority. Then, remove any establishments within the Dover Local Authority from the database, and check the number of documents to ensure they were deleted."
   ]
  },
  {
   "cell_type": "code",
   "execution_count": 15,
   "id": "768474a6",
   "metadata": {},
   "outputs": [
    {
     "data": {
      "text/plain": [
       "0"
      ]
     },
     "execution_count": 15,
     "metadata": {},
     "output_type": "execute_result"
    }
   ],
   "source": [
    "# Find how many documents have LocalAuthorityName as \"Dover\"\n",
    "Dover_documents = establishments.count_documents({'LocalAuthorityName': {'$eq': 'Dover'}})\n",
    "Dover_documents"
   ]
  },
  {
   "cell_type": "code",
   "execution_count": 16,
   "id": "a11d5f1b",
   "metadata": {},
   "outputs": [
    {
     "data": {
      "text/plain": [
       "<pymongo.results.DeleteResult at 0x20af1af9900>"
      ]
     },
     "execution_count": 16,
     "metadata": {},
     "output_type": "execute_result"
    }
   ],
   "source": [
    "# Delete all documents where LocalAuthorityName is \"Dover\"\n",
    "db.establishments.delete_many(\n",
    "    {'LocalAuthorityName': 'Dover'}\n",
    ")\n"
   ]
  },
  {
   "cell_type": "code",
   "execution_count": 17,
   "id": "2a51aba0",
   "metadata": {},
   "outputs": [
    {
     "data": {
      "text/plain": [
       "0"
      ]
     },
     "execution_count": 17,
     "metadata": {},
     "output_type": "execute_result"
    }
   ],
   "source": [
    "# Check if any remaining documents include Dover\n",
    "Dover_documents = establishments.count_documents({'LocalAuthorityName': 'Dover'})\n",
    "Dover_documents"
   ]
  },
  {
   "cell_type": "code",
   "execution_count": 18,
   "id": "8c356f7b",
   "metadata": {},
   "outputs": [
    {
     "data": {
      "text/plain": [
       "{'_id': ObjectId('65b5cdabcb0b9d51ec18daa6'),\n",
       " 'FHRSID': 1043695,\n",
       " 'ChangesByServerID': 0,\n",
       " 'LocalAuthorityBusinessID': 'PI/000073616',\n",
       " 'BusinessName': 'The Pavilion',\n",
       " 'BusinessType': 'Restaurant/Cafe/Canteen',\n",
       " 'BusinessTypeID': 1,\n",
       " 'AddressLine1': 'East Cliff Pavilion',\n",
       " 'AddressLine2': 'Wear Bay Road',\n",
       " 'AddressLine3': 'Folkestone',\n",
       " 'AddressLine4': 'Kent',\n",
       " 'PostCode': 'CT19 6BL',\n",
       " 'Phone': '',\n",
       " 'RatingValue': 5,\n",
       " 'RatingKey': 'fhrs_5_en-gb',\n",
       " 'RatingDate': '2018-04-04T00:00:00',\n",
       " 'LocalAuthorityCode': '188',\n",
       " 'LocalAuthorityName': 'Folkestone and Hythe',\n",
       " 'LocalAuthorityWebSite': 'http://www.folkestone-hythe.gov.uk',\n",
       " 'LocalAuthorityEmailAddress': 'foodteam@folkestone-hythe.gov.uk',\n",
       " 'scores': {'Hygiene': 5, 'Structural': 5, 'ConfidenceInManagement': 5},\n",
       " 'SchemeType': 'FHRS',\n",
       " 'geocode': {'longitude': None, 'latitude': None},\n",
       " 'RightToReply': '',\n",
       " 'Distance': 4591.765489457773,\n",
       " 'NewRatingPending': False,\n",
       " 'meta': {'dataSource': None,\n",
       "  'extractDate': '0001-01-01T00:00:00',\n",
       "  'itemCount': 0,\n",
       "  'returncode': None,\n",
       "  'totalCount': 0,\n",
       "  'totalPages': 0,\n",
       "  'pageSize': 0,\n",
       "  'pageNumber': 0},\n",
       " 'links': [{'rel': 'self',\n",
       "   'href': 'https://api.ratings.food.gov.uk/establishments/1043695'}]}"
      ]
     },
     "execution_count": 18,
     "metadata": {},
     "output_type": "execute_result"
    }
   ],
   "source": [
    "# Check that other documents remain with 'find_one'\n",
    "establishments.find_one()"
   ]
  },
  {
   "cell_type": "markdown",
   "id": "e9f1662d",
   "metadata": {},
   "source": [
    "5. Some of the number values are stored as strings, when they should be stored as numbers."
   ]
  },
  {
   "cell_type": "markdown",
   "id": "c46df2df",
   "metadata": {},
   "source": [
    "Use `update_many` to convert `latitude` and `longitude` to decimal numbers."
   ]
  },
  {
   "cell_type": "markdown",
   "id": "142e319c",
   "metadata": {},
   "source": [
    "Use `update_many` to convert `RatingValue` to integer numbers."
   ]
  },
  {
   "cell_type": "code",
   "execution_count": 22,
   "id": "396feb1f",
   "metadata": {},
   "outputs": [
    {
     "data": {
      "text/plain": [
       "<pymongo.results.UpdateResult at 0x20af295d2c0>"
      ]
     },
     "execution_count": 22,
     "metadata": {},
     "output_type": "execute_result"
    }
   ],
   "source": [
    "establishments.update_many({}, [{'$set': {'geocode.longitude': {'$toDouble': '$longitude'},\n",
    "                                           'geocode.latitude': {'$toDouble': '$latitude' }\n",
    "                                         }}])"
   ]
  },
  {
   "cell_type": "code",
   "execution_count": null,
   "id": "04430a5b",
   "metadata": {},
   "outputs": [],
   "source": [
    "# Set non 1-5 Rating Values to Null\n",
    "non_ratings = [\"AwaitingInspection\", \"Awaiting Inspection\", \"AwaitingPublication\", \"Pass\", \"Exempt\"]\n",
    "establishments.update_many({\"RatingValue\": {\"$in\": non_ratings}}, [ {'$set':{ \"RatingValue\" : None}} ])"
   ]
  },
  {
   "cell_type": "code",
   "execution_count": 20,
   "id": "94a467fc",
   "metadata": {},
   "outputs": [
    {
     "data": {
      "text/plain": [
       "<pymongo.results.UpdateResult at 0x20af1af8c80>"
      ]
     },
     "execution_count": 20,
     "metadata": {},
     "output_type": "execute_result"
    }
   ],
   "source": [
    "establishments.update_many({}, [{'$set': {'RatingValue': {'$toInt': '$RatingValue'}}}])\n"
   ]
  },
  {
   "cell_type": "code",
   "execution_count": 21,
   "id": "0deacaf9",
   "metadata": {},
   "outputs": [
    {
     "data": {
      "text/plain": [
       "{'_id': ObjectId('65b5cdabcb0b9d51ec18daa6'),\n",
       " 'FHRSID': 1043695,\n",
       " 'ChangesByServerID': 0,\n",
       " 'LocalAuthorityBusinessID': 'PI/000073616',\n",
       " 'BusinessName': 'The Pavilion',\n",
       " 'BusinessType': 'Restaurant/Cafe/Canteen',\n",
       " 'BusinessTypeID': 1,\n",
       " 'AddressLine1': 'East Cliff Pavilion',\n",
       " 'AddressLine2': 'Wear Bay Road',\n",
       " 'AddressLine3': 'Folkestone',\n",
       " 'AddressLine4': 'Kent',\n",
       " 'PostCode': 'CT19 6BL',\n",
       " 'Phone': '',\n",
       " 'RatingValue': 5,\n",
       " 'RatingKey': 'fhrs_5_en-gb',\n",
       " 'RatingDate': '2018-04-04T00:00:00',\n",
       " 'LocalAuthorityCode': '188',\n",
       " 'LocalAuthorityName': 'Folkestone and Hythe',\n",
       " 'LocalAuthorityWebSite': 'http://www.folkestone-hythe.gov.uk',\n",
       " 'LocalAuthorityEmailAddress': 'foodteam@folkestone-hythe.gov.uk',\n",
       " 'scores': {'Hygiene': 5, 'Structural': 5, 'ConfidenceInManagement': 5},\n",
       " 'SchemeType': 'FHRS',\n",
       " 'geocode': {'longitude': None, 'latitude': None},\n",
       " 'RightToReply': '',\n",
       " 'Distance': 4591.765489457773,\n",
       " 'NewRatingPending': False,\n",
       " 'meta': {'dataSource': None,\n",
       "  'extractDate': '0001-01-01T00:00:00',\n",
       "  'itemCount': 0,\n",
       "  'returncode': None,\n",
       "  'totalCount': 0,\n",
       "  'totalPages': 0,\n",
       "  'pageSize': 0,\n",
       "  'pageNumber': 0},\n",
       " 'links': [{'rel': 'self',\n",
       "   'href': 'https://api.ratings.food.gov.uk/establishments/1043695'}]}"
      ]
     },
     "execution_count": 21,
     "metadata": {},
     "output_type": "execute_result"
    }
   ],
   "source": [
    "# Check that the coordinates and rating value are now numbers\n",
    "establishments.find_one()\n"
   ]
  },
  {
   "cell_type": "code",
   "execution_count": null,
   "id": "44cbc7d1",
   "metadata": {},
   "outputs": [],
   "source": []
  }
 ],
 "metadata": {
  "kernelspec": {
   "display_name": "Python 3 (ipykernel)",
   "language": "python",
   "name": "python3"
  },
  "language_info": {
   "codemirror_mode": {
    "name": "ipython",
    "version": 3
   },
   "file_extension": ".py",
   "mimetype": "text/x-python",
   "name": "python",
   "nbconvert_exporter": "python",
   "pygments_lexer": "ipython3",
   "version": "3.10.13"
  }
 },
 "nbformat": 4,
 "nbformat_minor": 5
}
